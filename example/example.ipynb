{
 "cells": [
  {
   "cell_type": "code",
   "execution_count": 1,
   "metadata": {},
   "outputs": [
    {
     "data": {
      "text/plain": [
       "[{'docid': 'S100AKEX',\n",
       "  'id': 'ED2017062301177',\n",
       "  'is_yuho': True,\n",
       "  'title': '【E02144】トヨタ自動車株式会社 有価証券報告書－第113期(平成28年4月1日－平成29年3月31日)',\n",
       "  'updated': datetime.datetime(2017, 6, 23, 0, 0),\n",
       "  'url': 'http://resource.ufocatch.com/data/edinet/ED2017062301177'},\n",
       " {'docid': 'S100AI3I',\n",
       "  'id': 'ED2017062301247',\n",
       "  'is_yuho': False,\n",
       "  'title': '【E02144】トヨタ自動車株式会社 内部統制報告書－第113期(平成28年4月1日－平成29年3月31日)',\n",
       "  'updated': datetime.datetime(2017, 6, 23, 0, 0),\n",
       "  'url': 'http://resource.ufocatch.com/data/edinet/ED2017062301247'}]"
      ]
     },
     "execution_count": 1,
     "metadata": {},
     "output_type": "execute_result"
    }
   ],
   "source": [
    "# 1. getting xbrl\n",
    "from UfoDataReader.io.data import DataReader\n",
    "from datetime import datetime\n",
    "\n",
    "start = datetime(2017, 6, 23)\n",
    "end = datetime(2017, 6, 23)\n",
    "ufos = DataReader('7203', 'ufo', start, end, fetch_xbrl=False)  # if fetch_xbrl=True, download xbrl files.\n",
    "ufos"
   ]
  },
  {
   "cell_type": "code",
   "execution_count": 2,
   "metadata": {},
   "outputs": [
    {
     "data": {
      "text/plain": [
       "{'accounting_standards': 'US GAAP',\n",
       " 'company_name': 'トヨタ自動車株式会社',\n",
       " 'current_fy_end': '2015-03-31',\n",
       " 'current_fy_start': '2014-04-01',\n",
       " 'edinet_code': 'E02144',\n",
       " 'trading_symbol': '72030'}"
      ]
     },
     "execution_count": 2,
     "metadata": {},
     "output_type": "execute_result"
    }
   ],
   "source": [
    "# 2.1 parse xbrl (US GAAP)\n",
    "from UfoDataReader.util.parser import UfoXBRLParser\n",
    "ufoparser = UfoXBRLParser()\n",
    "\n",
    "toyota = 'jpcrp030000-asr-001_E02144-000_2015-03-31_01_2015-06-24.xbrl'     # US GAAP\n",
    "\n",
    "xbrl = ufoparser.parse(toyota)\n",
    "dei = ufoparser.parseDEI(xbrl)\n",
    "dei.__dict__"
   ]
  },
  {
   "cell_type": "code",
   "execution_count": 3,
   "metadata": {},
   "outputs": [
    {
     "data": {
      "text/plain": [
       "{'assets': '15128623000000',\n",
       " 'basic_eps': '688.02',\n",
       " 'cashflow_from_financing': '306045000000',\n",
       " 'cashflow_from_investing': '-3813490000000',\n",
       " 'cashflow_from_operation': '3685753000000',\n",
       " 'comprehensive_income': '3294275000000',\n",
       " 'current_assets': '6000524000000',\n",
       " 'current_liabilities': '3571917000000',\n",
       " 'diluted_eps': '687.66',\n",
       " 'liabilities': '4944351000000',\n",
       " 'net_assets': '10184271000000',\n",
       " 'net_income_loss': '2173338000000',\n",
       " 'non_current_assets': '9128099000000',\n",
       " 'non_current_liabilities': '1372433000000',\n",
       " 'operating_income_loss': 0,\n",
       " 'per': '12.2',\n",
       " 'profit_loss_before_tax': '2892828000000',\n",
       " 'revenues': '27234521000000',\n",
       " 'shares_outstanding': '3417997000'}"
      ]
     },
     "execution_count": 3,
     "metadata": {},
     "output_type": "execute_result"
    }
   ],
   "source": [
    "gaap = ufoparser.parseGAAP(xbrl)\n",
    "gaap.__dict__"
   ]
  },
  {
   "cell_type": "code",
   "execution_count": 4,
   "metadata": {},
   "outputs": [
    {
     "data": {
      "text/plain": [
       "{'accounting_standards': 'Japan GAAP',\n",
       " 'company_name': '株式会社あみやき亭',\n",
       " 'current_fy_end': '2017-03-31',\n",
       " 'current_fy_start': '2016-04-01',\n",
       " 'edinet_code': 'E03398',\n",
       " 'trading_symbol': '27530'}"
      ]
     },
     "execution_count": 4,
     "metadata": {},
     "output_type": "execute_result"
    }
   ],
   "source": [
    "# 2.2 parse xbrl (Japan GAAP)\n",
    "amiyaki = 'jpcrp030000-asr-001_E03398-000_2017-03-31_01_2017-06-23.xbrl'    # Japan GAAP\n",
    "\n",
    "xbrl = ufoparser.parse(amiyaki)\n",
    "dei = ufoparser.parseDEI(xbrl)\n",
    "dei.__dict__"
   ]
  },
  {
   "cell_type": "code",
   "execution_count": 5,
   "metadata": {},
   "outputs": [
    {
     "data": {
      "text/plain": [
       "{'assets': '23304000000',\n",
       " 'basic_eps': '315.96',\n",
       " 'bps': '2769.14',\n",
       " 'cashflow_from_financing': '-744000000',\n",
       " 'cashflow_from_investing': '-1339000000',\n",
       " 'cashflow_from_operation': '3100000000',\n",
       " 'comprehensive_income': '2163000000',\n",
       " 'current_assets': '11004000000',\n",
       " 'current_liabilities': '3538000000',\n",
       " 'diluted_eps': '',\n",
       " 'equity_to_asset_ratio': '0.814',\n",
       " 'liabilities': '4339000000',\n",
       " 'net_assets': '18965000000',\n",
       " 'netsales': '30564000000',\n",
       " 'non_current_assets': '12299000000',\n",
       " 'non_current_liabilities': '800000000',\n",
       " 'ordinary_income_loss': '3053000000',\n",
       " 'per': '13.1',\n",
       " 'profit_loss': '2163000000',\n",
       " 'roe': '0.119',\n",
       " 'shares_outstanding': '6848800',\n",
       " 'total_assets': '23304000000'}"
      ]
     },
     "execution_count": 5,
     "metadata": {},
     "output_type": "execute_result"
    }
   ],
   "source": [
    "gaap = ufoparser.parseGAAP(xbrl)\n",
    "gaap.__dict__"
   ]
  }
 ],
 "metadata": {
  "kernelspec": {
   "display_name": "Python 3",
   "language": "python",
   "name": "python3"
  },
  "language_info": {
   "codemirror_mode": {
    "name": "ipython",
    "version": 3
   },
   "file_extension": ".py",
   "mimetype": "text/x-python",
   "name": "python",
   "nbconvert_exporter": "python",
   "pygments_lexer": "ipython3",
   "version": "3.5.0"
  }
 },
 "nbformat": 4,
 "nbformat_minor": 1
}
